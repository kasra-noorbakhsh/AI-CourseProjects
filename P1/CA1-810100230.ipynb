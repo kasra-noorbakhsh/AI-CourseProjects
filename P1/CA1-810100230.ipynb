{
 "cells": [
  {
   "cell_type": "markdown",
   "metadata": {},
   "source": [
    "<font size=6 color = \"#663399\" >Genetic Algorithms</font>\n",
    "- <font size=4>Name: Kasra Noorbakhsh</font>\n",
    "- <font size=4>SID: 810100230</font>\n",
    "- <font size=4>In this project we trained on Genetic algorithms with Fractional Knapsack problem.</font>"
   ]
  },
  {
   "cell_type": "markdown",
   "metadata": {},
   "source": [
    "<font size =\"5\" color =\"#9400D3\">Part 1: Basic Concepts</font>\n",
    "- each value and weight of a food is considered a gene.\n",
    "- A chromosome consists of genes with size : `POPULATION_SIZE`."
   ]
  },
  {
   "cell_type": "code",
   "execution_count": 1,
   "metadata": {},
   "outputs": [],
   "source": [
    "import random\n",
    "import csv\n",
    "import copy"
   ]
  },
  {
   "cell_type": "code",
   "execution_count": 2,
   "metadata": {},
   "outputs": [],
   "source": [
    "CSV_PATH = \"snacks.csv\"\n",
    "\n",
    "CROSSOVER_PROBABILITY = 0.7\n",
    "CARRY_PROBABILITY = 0.1\n",
    "MUTATION_PROBABILITY = 0.05\n",
    "\n",
    "POPULATION_SIZE = 500\n",
    "MAX_WEIGHT = 18\n",
    "MIN_VALUE = 27\n",
    "MIN_NUMBER_OF_FOODS = 1\n",
    "MAX_NUMBER_OF_FOODS = 9\n",
    "MAX_NUMBER_OF_GENERATION = 1000"
   ]
  },
  {
   "cell_type": "markdown",
   "metadata": {},
   "source": [
    "<font size =\"5\" color =\"#9400D3\">Part 2: Basic Population</font>\n",
    "- "
   ]
  },
  {
   "cell_type": "code",
   "execution_count": 3,
   "metadata": {},
   "outputs": [],
   "source": [
    "def make_first_population(population_size, chromosome_size): \n",
    "\n",
    "    first_population = []\n",
    "    \n",
    "    for i in range(population_size):\n",
    "        chromosome = []\n",
    "        for j in range(chromosome_size):\n",
    "            chromosome.append(random.random()) \n",
    "        first_population.append(chromosome)\n",
    "    \n",
    "    return first_population"
   ]
  },
  {
   "cell_type": "markdown",
   "metadata": {},
   "source": [
    "<font size =\"5\" color =\"#9400D3\">Part 3: Fitness</font>\n",
    "- "
   ]
  },
  {
   "cell_type": "code",
   "execution_count": 4,
   "metadata": {},
   "outputs": [],
   "source": [
    "def calculate_properties_chromosome(chromosome, values, weights):\n",
    "    total_weight = 0\n",
    "    total_value = 0\n",
    "\n",
    "    for i in range(len(chromosome)):\n",
    "        total_weight += chromosome[i] * weights[i]\n",
    "        total_value += chromosome[i] * values[i]\n",
    "\n",
    "    return total_weight, total_value\n",
    "\n",
    "def calculate_weights_values(chromosomes, population_size, Values, Weights):\n",
    "\n",
    "    totalWeights = []\n",
    "    totalValues = []\n",
    "    indexes_of_foods = []\n",
    "\n",
    "    for i in range(population_size):\n",
    "\n",
    "        total_wei = 0\n",
    "        total_val = 0\n",
    "\n",
    "        size_of_chromosome = random.randint(MIN_NUMBER_OF_FOODS, MAX_NUMBER_OF_FOODS)\n",
    "        random_food_indexs = random.sample(range(len(Weights)), size_of_chromosome)\n",
    "        indexes_of_foods.append(random_food_indexs)\n",
    "\n",
    "        for j in range(size_of_chromosome):\n",
    "            total_wei += chromosomes[i][random_food_indexs[j]] * Weights[random_food_indexs[j]]\n",
    "            total_val += chromosomes[i][random_food_indexs[j]] * Values[random_food_indexs[j]]\n",
    "        totalWeights.append(total_wei)\n",
    "        totalValues.append(total_val)\n",
    "\n",
    "    for l in range(population_size):\n",
    "        for w in range(len(Weights)):\n",
    "            if(w not in indexes_of_foods[l]):\n",
    "                chromosomes[l][w] = 0\n",
    "\n",
    "\n",
    "    return totalWeights, totalValues, indexes_of_foods\n",
    "\n",
    "def calculate_fitness(totalWeights, totalValues):\n",
    "\n",
    "    initial_value = 0\n",
    "    fittneses = [initial_value] * len(totalWeights)\n",
    "\n",
    "    for k in range(len(totalWeights)):\n",
    "        if(totalWeights[k] > 18 or totalValues[k] < 20) :\n",
    "            fittneses[k] = 0\n",
    "        else:\n",
    "            fittneses[k] = totalValues[k]\n",
    "\n",
    "    return fittneses"
   ]
  },
  {
   "cell_type": "markdown",
   "metadata": {},
   "source": [
    "<font size =\"5\" color =\"#9400D3\">Part 4: Crossover & Mutation & Pool</font>\n"
   ]
  },
  {
   "cell_type": "markdown",
   "metadata": {},
   "source": [
    "- <font size =\"3\" color =\"#9400D3\"> Pool: </font>\n",
    "- Here I choose the wheel method to form the pool "
   ]
  },
  {
   "cell_type": "code",
   "execution_count": 5,
   "metadata": {},
   "outputs": [],
   "source": [
    "def create_mating_pool_wheel(population, fitnesses):\n",
    "\n",
    "    list_len = len(population)\n",
    "    sumOfFitness = sum(fitnesses)\n",
    "    if(sumOfFitness == 0):\n",
    "        matingPool = random.choices(population, k=POPULATION_SIZE)\n",
    "        \n",
    "    else:\n",
    "        probList = [(fitnesses[i]/sumOfFitness) for i in range(0,list_len)]\n",
    "        matingPool = random.choices(population,weights=probList,k=POPULATION_SIZE)\n",
    "\n",
    "    random.shuffle(matingPool)\n",
    "    return matingPool"
   ]
  },
  {
   "cell_type": "markdown",
   "metadata": {},
   "source": [
    "- <font size =\"3\" color =\"#9400D3\"> Crossover: </font>\n",
    "- I have 2 kinds of crossover: N-point and 1-point"
   ]
  },
  {
   "cell_type": "code",
   "execution_count": 6,
   "metadata": {},
   "outputs": [],
   "source": [
    "def n_point_crossover(n, chromosome1, chromosome2):\n",
    "\n",
    "    crossover_points = []\n",
    "    swap_or_not = True\n",
    "\n",
    "    for i in range(n):\n",
    "        crossover_points.append(random.randint(0, len(chromosome1) - 1))\n",
    "\n",
    "    crossover_points.sort()\n",
    "    \n",
    "    for j in range(len(crossover_points)):\n",
    "        \n",
    "        if(swap_or_not):\n",
    "            if(j == len(crossover_points) - 1):\n",
    "                chromosome1[crossover_points[j]:], chromosome2[crossover_points[j]:] = chromosome2[crossover_points[j]:], chromosome1[crossover_points[j]:]\n",
    "            else:\n",
    "                chromosome1[crossover_points[j]:crossover_points[j + 1]], chromosome2[crossover_points[j]:crossover_points[j + 1]] = chromosome2[crossover_points[j]:crossover_points[j + 1]], chromosome1[crossover_points[j]:crossover_points[j + 1]]\n",
    "            swap_or_not = False\n",
    "        else:\n",
    "            swap_or_not = True\n",
    "            \n",
    "def crossover_on_list(population, values, weights):\n",
    "    population_len = len(population)\n",
    "\n",
    "    for i in range(0,population_len,2):\n",
    "\n",
    "        if i + 1 == population_len:\n",
    "            break\n",
    "        \n",
    "        if(random.random() < CROSSOVER_PROBABILITY):\n",
    "            ch1 = copy.deepcopy(population[i])\n",
    "            ch2 = copy.deepcopy(population[i+1])\n",
    "            \n",
    "            n_point_crossover(3, ch1, ch2)\n",
    "\n",
    "            total_weight1, total_value1 = calculate_properties_chromosome(ch1, values, weights)\n",
    "            total_weight2, total_value2 = calculate_properties_chromosome(ch2, values, weights)\n",
    "\n",
    "            if(not (total_weight1 > MAX_WEIGHT or total_value1 < MIN_VALUE)):\n",
    "                population[i] = ch1\n",
    "            if(not (total_weight2 > MAX_WEIGHT or total_value2 < MIN_VALUE)):\n",
    "                population[i+1] = ch2"
   ]
  },
  {
   "cell_type": "markdown",
   "metadata": {},
   "source": [
    "- <font size =\"3\" color =\"#9400D3\"> Mutation: </font>\n",
    "- some of the chromosomes do not mutate at all and are forwarded"
   ]
  },
  {
   "cell_type": "code",
   "execution_count": 7,
   "metadata": {},
   "outputs": [],
   "source": [
    "def mutate(chromosome):\n",
    "    for i in range(len(chromosome)):\n",
    "        if(not isinstance(chromosome[i], int)):\n",
    "            if(random.random() < CARRY_PROBABILITY):\n",
    "                chromosome[i] = random.random()\n",
    "\n",
    "def mutate_on_list(population, values, weights):\n",
    "\n",
    "    populationLen = len(population)\n",
    "\n",
    "    for i in range(populationLen):\n",
    "        if(random.random() < MUTATION_PROBABILITY):\n",
    "            ch = copy.deepcopy(population[i])\n",
    "            mutate(ch)\n",
    "            \n",
    "            total_weight, total_value = calculate_properties_chromosome(ch, values, weights)\n",
    "\n",
    "            if(not (total_weight > MAX_WEIGHT or total_value < MIN_VALUE)):\n",
    "                population[i] = ch"
   ]
  },
  {
   "cell_type": "markdown",
   "metadata": {},
   "source": [
    "<font size =\"5\" color =\"#9400D3\">Part 5: Algorithm</font>\n",
    "- "
   ]
  },
  {
   "cell_type": "code",
   "execution_count": 8,
   "metadata": {},
   "outputs": [],
   "source": [
    "Foods = []\n",
    "Weights = []\n",
    "Values = []\n",
    "\n",
    "file = open(CSV_PATH)\n",
    "csvreader = csv.reader(file)\n",
    "\n",
    "for row in csvreader:\n",
    "    Foods.append(row)\n",
    "\n",
    "for i in range(1,len(Foods)):\n",
    "    Weights.append(int(Foods[i][1]))\n",
    "    Values.append(int(Foods[i][2]))\n",
    "    \n",
    "def find_sol1(population_size):\n",
    "    \n",
    "    population = make_first_population(population_size, len(Weights))\n",
    "\n",
    "    best_answer = []\n",
    "    bestAnswerFitness = 0\n",
    "\n",
    "    for i in range(MAX_NUMBER_OF_GENERATION):\n",
    "\n",
    "        total_weights, total_values, indexes = calculate_weights_values(population, population_size, Values, Weights)\n",
    "\n",
    "        fitnesha = calculate_fitness(total_weights, total_values)\n",
    "\n",
    "        sorted_list = [x for _, x in sorted(zip(fitnesha, population))]\n",
    "\n",
    "        newBestAnswer = sorted_list[0]\n",
    "        newBestAnswerFitness = max(fitnesha)\n",
    "\n",
    "        if bestAnswerFitness < newBestAnswerFitness:   \n",
    "            bestAnswerFitness = newBestAnswerFitness\n",
    "            best_answer = newBestAnswer\n",
    "        \n",
    "        population = create_mating_pool_wheel(population, fitnesha)\n",
    "        crossover_on_list(population, Values, Weights)\n",
    "        mutate_on_list(population, Values, Weights)\n",
    "\n",
    "    return best_answer, bestAnswerFitness\n",
    "\n",
    "best_answer, bestAnswerFitness = find_sol1(POPULATION_SIZE)"
   ]
  },
  {
   "cell_type": "markdown",
   "metadata": {},
   "source": [
    "<font size =\"5\" color =\"#9400D3\">Part 6: Results</font>\n",
    "- "
   ]
  },
  {
   "cell_type": "code",
   "execution_count": 9,
   "metadata": {},
   "outputs": [
    {
     "name": "stdout",
     "output_type": "stream",
     "text": [
      "Saghe-Talaei : 0.25013420848035717\n",
      "Total Weight: 0.25013420848035717\n",
      "Total Value: 24.850119691384897\n"
     ]
    }
   ],
   "source": [
    "total_wei = 0\n",
    "\n",
    "for i in range(len(best_answer)):\n",
    "    if(best_answer[i] != 0):\n",
    "        total_wei += best_answer[i] * int(Foods[i][1])\n",
    "        print(Foods[i][0], \":\", best_answer[i] * int(Foods[i][1]))\n",
    "\n",
    "print(\"Total Weight:\", total_wei)\n",
    "print(\"Total Value:\", bestAnswerFitness)"
   ]
  },
  {
   "cell_type": "markdown",
   "metadata": {},
   "source": [
    "<font size =\"5\" color =\"#9400D3\">Part 6: Questions</font>\n",
    "- If we choose a very small population then we may not consider some of answers for example if we have 10 genes in a chromosome and first population of size 10 then we miss the 2^10 - 10 probebilities. If we have a large population then in one of our randoms we have the correct answer and runtime and memory usage increases.\n",
    "\n",
    "- By growing the population size, the diversity increases and it may help us but the resources(time and memory) consumption will increase. Also we keep the population the same to make our chromosomes converge to optimal answer.\n",
    "\n",
    "- Crossover makes better chromosomes by combining good chromosomes but mutation changes a chromosome directly and helps us escape a local maxima. We can probably reach the solution by only using one of them but it will be most likely not efficient for example uniform crossover may reach the answer by too many generations and in general only using mutation won't lead us to an optimal answer because it doesn't have the effect of crossover.\n",
    "\n",
    "- Choosing the right amount for all constant values can accelerate our algorithm.\n",
    "\n",
    "- Despite the crossover, mutation can solve this problem for us. Also we can use multiple starts to increase the probability of finding the actual answer instead of local maxima.\n",
    "\n",
    "- We can define a maximum value for the number of the generations to stop the algorithm. also we can calculate variances of best chromosomes of some recent generations and compare it with a threshold and terminate if it is less than threshold.\n"
   ]
  }
 ],
 "metadata": {
  "kernelspec": {
   "display_name": "Python 3",
   "language": "python",
   "name": "python3"
  },
  "language_info": {
   "codemirror_mode": {
    "name": "ipython",
    "version": 3
   },
   "file_extension": ".py",
   "mimetype": "text/x-python",
   "name": "python",
   "nbconvert_exporter": "python",
   "pygments_lexer": "ipython3",
   "version": "3.12.0"
  }
 },
 "nbformat": 4,
 "nbformat_minor": 2
}
